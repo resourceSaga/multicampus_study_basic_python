{
 "cells": [
  {
   "cell_type": "code",
   "execution_count": 6,
   "metadata": {},
   "outputs": [
    {
     "name": "stdout",
     "output_type": "stream",
     "text": [
      "Name: selenium\n",
      "Version: 3.141.0\n",
      "Summary: Python bindings for Selenium\n",
      "Home-page: https://github.com/SeleniumHQ/selenium/\n",
      "Author: UNKNOWN\n",
      "Author-email: UNKNOWN\n",
      "License: Apache 2.0\n",
      "Location: c:\\anaconda3\\lib\\site-packages\n",
      "Requires: urllib3\n",
      "Required-by: \n"
     ]
    },
    {
     "name": "stderr",
     "output_type": "stream",
     "text": [
      "You are using pip version 10.0.1, however version 20.2b1 is available.\n",
      "You should consider upgrading via the 'python -m pip install --upgrade pip' command.\n"
     ]
    }
   ],
   "source": [
    "!pip show selenium\n",
    "# !pip list\n",
    "# !pip install selenium"
   ]
  },
  {
   "cell_type": "markdown",
   "metadata": {},
   "source": [
    "### Webdriver 객체생성"
   ]
  },
  {
   "cell_type": "code",
   "execution_count": 6,
   "metadata": {},
   "outputs": [
    {
     "name": "stdout",
     "output_type": "stream",
     "text": [
      "Python\n",
      "PSF\n",
      "Docs\n",
      "PyPI\n",
      "Jobs\n",
      "Community\n"
     ]
    }
   ],
   "source": [
    "from selenium import webdriver\n",
    "import time\n",
    "\n",
    "# Webdiver 객체생성 : chromedrive.exe 실행\n",
    "browser = webdriver.Chrome('./chromedriver.exe')\n",
    "# python.org 요청을 보내기\n",
    "browser.get('https://www.python.org/')\n",
    "# pypi 에 해당 element 를 찾기\n",
    "menus = browser.find_elements_by_css_selector('div#top ul.menu li')\n",
    "\n",
    "pypi = None\n",
    "for menu in menus:\n",
    "    print(menu.text)\n",
    "    if menu.text == 'PyPI':\n",
    "        pypi = menu\n",
    "# click() 함수 실행\n",
    "pypi.click()\n",
    "# sleep\n",
    "time.sleep(5)\n",
    "# driver 종료\n",
    "browser.quit()"
   ]
  },
  {
   "cell_type": "code",
   "execution_count": 10,
   "metadata": {},
   "outputs": [],
   "source": [
    "from selenium import webdriver\n",
    "import time\n",
    "\n",
    "driver = webdriver.Chrome('./chromedriver')\n",
    "driver.get('https://www.naver.com/')\n",
    "driver.save_screenshot(\"img/naver.png\")\n",
    "\n",
    "time.sleep(3)\n",
    "driver.close()"
   ]
  },
  {
   "cell_type": "code",
   "execution_count": null,
   "metadata": {},
   "outputs": [],
   "source": []
  }
 ],
 "metadata": {
  "kernelspec": {
   "display_name": "Python 3",
   "language": "python",
   "name": "python3"
  },
  "language_info": {
   "codemirror_mode": {
    "name": "ipython",
    "version": 3
   },
   "file_extension": ".py",
   "mimetype": "text/x-python",
   "name": "python",
   "nbconvert_exporter": "python",
   "pygments_lexer": "ipython3",
   "version": "3.7.0"
  }
 },
 "nbformat": 4,
 "nbformat_minor": 2
}
