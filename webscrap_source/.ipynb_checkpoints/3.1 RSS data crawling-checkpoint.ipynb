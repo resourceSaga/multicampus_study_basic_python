{
 "cells": [
  {
   "cell_type": "markdown",
   "metadata": {},
   "source": [
    "# 기상청 날씨 데이터 조회\n",
    "\n",
    "- find(), find_all() 함수 사용"
   ]
  },
  {
   "cell_type": "code",
   "execution_count": 4,
   "metadata": {
    "scrolled": true
   },
   "outputs": [],
   "source": [
    "import requests\n",
    "from bs4 import BeautifulSoup\n",
    "\n",
    "url = 'http://www.kma.go.kr/weather/forecast/mid-term-rss3.jsp'\n",
    "\n",
    "res = requests.get(url)\n",
    "html = res.text\n",
    "soup = BeautifulSoup(html,'html.parser')\n",
    "\n",
    "for title in soup.find_all('title'):\n",
    "#     print(title.text)\n",
    "    pass\n",
    "\n",
    "# print(soup.find_all('description'))\n"
   ]
  },
  {
   "cell_type": "code",
   "execution_count": 55,
   "metadata": {},
   "outputs": [],
   "source": [
    "# for tag in soup.find_all('header'):\n",
    "#     print(tag.find('wf').text)"
   ]
  },
  {
   "cell_type": "code",
   "execution_count": 8,
   "metadata": {},
   "outputs": [],
   "source": [
    "# print(soup.find('province').text)\n",
    "# print(soup.find('city').text)"
   ]
  },
  {
   "cell_type": "code",
   "execution_count": 6,
   "metadata": {},
   "outputs": [],
   "source": [
    "# 1개의 data는 dict에 저장하고, dict를 list에 저장한다.\n",
    "# 리스트 출력하기\n",
    "\n",
    "data_list = []\n",
    "data_tags = soup.find('location', attrs={'wl_ver':'3'}).find_all('data')\n",
    "for data_tag in data_tags:\n",
    "    # mode, wf, tmn, tmx\n",
    "    data_dic = {}\n",
    "    data_dic['mode'] = data_tag.find('mode').text\n",
    "    data_dic['wf'] = data_tag.find('wf').text\n",
    "    data_dic['tmn'] = data_tag.find('tmn').text\n",
    "    data_dic['tmx'] = data_tag.find('tmx').text\n",
    "    data_list.append(data_dic)\n",
    "    \n"
   ]
  },
  {
   "cell_type": "code",
   "execution_count": 7,
   "metadata": {},
   "outputs": [],
   "source": [
    "# 전국에서 도시별\n",
    "all_data_list = []\n",
    "for data_tags in soup.find_all('location', attrs={'wl_ver':'3'}):\n",
    "    city_dic = {}\n",
    "    city_name = \"\"\n",
    "    province_name = \"\"\n",
    "    data_list = []\n",
    "    data_dic = {}\n",
    "\n",
    "    for province in data_tags.find_all('province'):\n",
    "        province_name = province.text\n",
    "    for city in data_tags.find_all('city'):\n",
    "        city_name = city.text\n",
    "    for data in data_tags.find_all('data'):\n",
    "        data_dic['mode'] = data_tag.find('mode').text\n",
    "        data_dic['wf'] = data_tag.find('wf').text\n",
    "        data_dic['tmn'] = data_tag.find('tmn').text\n",
    "        data_dic['tmx'] = data_tag.find('tmx').text\n",
    "        data_list.append(data_dic)\n",
    "    city_dic['province'] = province_name\n",
    "    city_dic['city'] = city_name\n",
    "    city_dic['data'] = data_list\n",
    "    all_data_list.append(city_dic)\n",
    "    \n",
    "    \n",
    "#print(all_data_list)\n",
    "import json\n",
    "with open ('data.json','w',encoding='utf8') as f:\n",
    "    json.dump(all_data_list, f)\n",
    "\n",
    "with open ('data.json','r', encoding='utf8') as fr:\n",
    "    f_data = json.loads(fr.read())\n",
    "\n",
    "# print(f_data)"
   ]
  }
 ],
 "metadata": {
  "kernelspec": {
   "display_name": "Python 3",
   "language": "python",
   "name": "python3"
  },
  "language_info": {
   "codemirror_mode": {
    "name": "ipython",
    "version": 3
   },
   "file_extension": ".py",
   "mimetype": "text/x-python",
   "name": "python",
   "nbconvert_exporter": "python",
   "pygments_lexer": "ipython3",
   "version": "3.7.0"
  }
 },
 "nbformat": 4,
 "nbformat_minor": 2
}
