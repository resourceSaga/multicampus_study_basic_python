{
 "cells": [
  {
   "cell_type": "code",
   "execution_count": 4,
   "metadata": {},
   "outputs": [
    {
     "name": "stdout",
     "output_type": "stream",
     "text": [
      "Name: pymongo\n",
      "Version: 3.10.1\n",
      "Summary: Python driver for MongoDB <http://www.mongodb.org>\n",
      "Home-page: http://github.com/mongodb/mongo-python-driver\n",
      "Author: Mike Dirolf\n",
      "Author-email: mongodb-user@googlegroups.com\n",
      "License: Apache License, Version 2.0\n",
      "Location: c:\\anaconda3\\lib\\site-packages\n",
      "Requires: \n",
      "Required-by: \n"
     ]
    },
    {
     "name": "stderr",
     "output_type": "stream",
     "text": [
      "You are using pip version 10.0.1, however version 20.2b1 is available.\n",
      "You should consider upgrading via the 'python -m pip install --upgrade pip' command.\n"
     ]
    }
   ],
   "source": [
    "!pip show pymongo"
   ]
  },
  {
   "cell_type": "markdown",
   "metadata": {},
   "source": [
    "## pymongo을 사용해서 MongoDB 제어하기\n",
    "1. pymongo 라이브러리 import\n",
    "2. MongoDB 접속\n",
    "3. Database, C"
   ]
  },
  {
   "cell_type": "code",
   "execution_count": 19,
   "metadata": {},
   "outputs": [
    {
     "name": "stdout",
     "output_type": "stream",
     "text": [
      "MongoClient(host=['localhost:27017'], document_class=dict, tz_aware=False, connect=True)\n",
      "Database(MongoClient(host=['localhost:27017'], document_class=dict, tz_aware=False, connect=True), 'pymongo_db')\n",
      "pymongo_db\n",
      "Collection(Database(MongoClient(host=['localhost:27017'], document_class=dict, tz_aware=False, connect=True), 'pymongo_db'), 'pymongo_col')\n",
      "pymongo_col\n"
     ]
    }
   ],
   "source": [
    "import pymongo\n",
    "\n",
    "# connection create\n",
    "conn = pymongo.MongoClient(\"localhost\", 27017)\n",
    "print(conn)\n",
    "# database create\n",
    "db = conn.pymongo_db # rigth side is db name\n",
    "print(db)\n",
    "print(db.name)\n",
    "# collection create\n",
    "col = db.pymongo_col\n",
    "print(col)\n",
    "print(col.name)"
   ]
  },
  {
   "cell_type": "markdown",
   "metadata": {},
   "source": [
    "## Insert_one(), insert_many() 함수"
   ]
  },
  {
   "cell_type": "code",
   "execution_count": 35,
   "metadata": {},
   "outputs": [
    {
     "name": "stdout",
     "output_type": "stream",
     "text": [
      "<pymongo.results.InsertOneResult object at 0x00000197B820A208>\n",
      "5f22621a6dc8a0ca2c979c36\n"
     ]
    }
   ],
   "source": [
    "post = {\"author\":\"길동\",\"text\":\"첫번째 글\", \"tags\":[\"mongodb\", \"python\", \"pymongo\"]}\n",
    "result = col.insert_one(post)\n",
    "print(result)\n",
    "print(result.inserted_id)\n"
   ]
  },
  {
   "cell_type": "code",
   "execution_count": 22,
   "metadata": {},
   "outputs": [
    {
     "data": {
      "text/plain": [
       "<pymongo.cursor.Cursor at 0x197b831cc88>"
      ]
     },
     "execution_count": 22,
     "metadata": {},
     "output_type": "execute_result"
    }
   ],
   "source": [
    "col.find()"
   ]
  },
  {
   "cell_type": "code",
   "execution_count": 36,
   "metadata": {},
   "outputs": [
    {
     "name": "stdout",
     "output_type": "stream",
     "text": [
      "<class 'dict'> {'_id': ObjectId('5f225fdf6dc8a0ca2c979c31'), 'author': '길동', 'text': '첫번째 글', 'tags': ['mongodb', 'python', 'pymongo']}\n",
      "<class 'dict'> {'_id': ObjectId('5f22619a6dc8a0ca2c979c32'), 'author': '둘리', 'age': 10}\n",
      "<class 'dict'> {'_id': ObjectId('5f22619a6dc8a0ca2c979c33'), 'author': '바다', 'age': 20}\n",
      "<class 'dict'> {'_id': ObjectId('5f22619a6dc8a0ca2c979c34'), 'author': '연못', 'age': 30}\n",
      "<class 'dict'> {'_id': ObjectId('5f2262056dc8a0ca2c979c35'), 'author': '길동', 'text': '첫번째 글', 'tags': ['mongodb', 'python', 'pymongo']}\n",
      "<class 'dict'> {'_id': ObjectId('5f22621a6dc8a0ca2c979c36'), 'author': '길동', 'text': '첫번째 글', 'tags': ['mongodb', 'python', 'pymongo']}\n"
     ]
    }
   ],
   "source": [
    "for post in col.find():\n",
    "    print(type(post), post)"
   ]
  },
  {
   "cell_type": "code",
   "execution_count": 28,
   "metadata": {},
   "outputs": [
    {
     "data": {
      "text/plain": [
       "1"
      ]
     },
     "execution_count": 28,
     "metadata": {},
     "output_type": "execute_result"
    }
   ],
   "source": [
    "# document 갯수 알아내기\n",
    "col.count_documents({})"
   ]
  },
  {
   "cell_type": "code",
   "execution_count": 30,
   "metadata": {},
   "outputs": [
    {
     "data": {
      "text/plain": [
       "<pymongo.results.InsertManyResult at 0x197b830ee08>"
      ]
     },
     "execution_count": 30,
     "metadata": {},
     "output_type": "execute_result"
    }
   ],
   "source": [
    "posts = [\n",
    "    {\"author\":\"둘리\",\"age\":10},\n",
    "    {\"author\":\"바다\",\"age\":20},\n",
    "    {\"author\":\"연못\",\"age\":30},\n",
    "]\n",
    "col.insert_many(posts)"
   ]
  },
  {
   "cell_type": "code",
   "execution_count": 37,
   "metadata": {},
   "outputs": [
    {
     "name": "stdout",
     "output_type": "stream",
     "text": [
      "6\n",
      "\n",
      "{'_id': ObjectId('5f225fdf6dc8a0ca2c979c31'), 'author': '길동', 'text': '첫번째 글', 'tags': ['mongodb', 'python', 'pymongo']}\n",
      "\n",
      "{'_id': ObjectId('5f22619a6dc8a0ca2c979c32'), 'author': '둘리', 'age': 10}\n",
      "\n",
      "{'_id': ObjectId('5f22619a6dc8a0ca2c979c33'), 'author': '바다', 'age': 20}\n",
      "\n",
      "{'_id': ObjectId('5f22619a6dc8a0ca2c979c34'), 'author': '연못', 'age': 30}\n",
      "\n",
      "{'_id': ObjectId('5f2262056dc8a0ca2c979c35'), 'author': '길동', 'text': '첫번째 글', 'tags': ['mongodb', 'python', 'pymongo']}\n",
      "\n",
      "{'_id': ObjectId('5f22621a6dc8a0ca2c979c36'), 'author': '길동', 'text': '첫번째 글', 'tags': ['mongodb', 'python', 'pymongo']}\n"
     ]
    }
   ],
   "source": [
    "print(col.count_documents({}))\n",
    "for post in col.find({}):\n",
    "    print()\n",
    "    print(post)"
   ]
  },
  {
   "cell_type": "code",
   "execution_count": 50,
   "metadata": {},
   "outputs": [
    {
     "name": "stdout",
     "output_type": "stream",
     "text": [
      "{'author': '길동', 'text': '첫번째 글'}\n",
      "{'author': '길동', 'text': '첫번째 글'}\n",
      "{'author': '길동', 'text': '첫번째 글'}\n",
      "{'author': '둘리', 'age': 10}\n",
      "{'author': '바다', 'age': 20}\n",
      "{'author': '연못', 'age': 30}\n"
     ]
    }
   ],
   "source": [
    "for post in col.find({}, {\"author\":1, \"age\":1, \"text\":1, \"_id\":0}).sort(\"age\", pymongo.ASCENDING):\n",
    "    print(post)"
   ]
  },
  {
   "cell_type": "code",
   "execution_count": 52,
   "metadata": {},
   "outputs": [
    {
     "name": "stdout",
     "output_type": "stream",
     "text": [
      "{'author': '연못', 'age': 30}\n",
      "{'author': '바다', 'age': 20}\n",
      "{'author': '둘리', 'age': 10}\n",
      "{'author': '길동', 'text': '첫번째 글'}\n",
      "{'author': '길동', 'text': '첫번째 글'}\n",
      "{'author': '길동', 'text': '첫번째 글'}\n"
     ]
    }
   ],
   "source": [
    "for post in col.find({}, {\"author\":1, \"age\":1, \"text\":1, \"_id\":0}).sort(\"age\", pymongo.DESCENDING):\n",
    "    print(post)"
   ]
  },
  {
   "cell_type": "code",
   "execution_count": 54,
   "metadata": {},
   "outputs": [
    {
     "name": "stdout",
     "output_type": "stream",
     "text": [
      "Collection(Database(MongoClient(host=['localhost:27017'], document_class=dict, tz_aware=False, connect=True), 'pymongo_db'), 'employees')\n"
     ]
    }
   ],
   "source": [
    "# employees collection create\n",
    "emp = db.employees\n",
    "print(emp)"
   ]
  },
  {
   "cell_type": "code",
   "execution_count": 63,
   "metadata": {},
   "outputs": [
    {
     "data": {
      "text/plain": [
       "<pymongo.results.InsertManyResult at 0x197b83f3d88>"
      ]
     },
     "execution_count": 63,
     "metadata": {},
     "output_type": "execute_result"
    }
   ],
   "source": [
    "from datetime import datetime\n",
    "\n",
    "emp_list = [\n",
    "   {\"number\":1001,\"last_name\":\"Smith\",\"first_name\":\"John\",\"salary\":62000,\"department\":\"sales\", \"hire_date\":datetime.strptime(\"2016-01-02\", \"%Y-%m-%d\")},\n",
    "   {\"number\":1002,\"last_name\":\"Anderson\",\"first_name\":\"Jane\",\"salary\":57500,\"department\":\"marketing\", \"hire_date\":datetime.strptime(\"2013-11-09\", \"%Y-%m-%d\")},\n",
    "   {\"number\":1003,\"last_name\":\"Everest\",\"first_name\":\"Brad\",\"salary\":71000,\"department\":\"sales\", \"hire_date\":datetime.strptime(\"2017-02-03\", \"%Y-%m-%d\")},\n",
    "   {\"number\":1004,\"last_name\":\"Horvath\",\"first_name\":\"Jack\",\"salary\":42000,\"department\":\"marketing\", \"hire_date\":datetime.strptime(\"2017-06-01\", \"%Y-%m-%d\")},\n",
    "]\n",
    "emp.insert_many(emp_list)\n"
   ]
  },
  {
   "cell_type": "code",
   "execution_count": 65,
   "metadata": {},
   "outputs": [
    {
     "name": "stdout",
     "output_type": "stream",
     "text": [
      "{'_id': ObjectId('5f2266176dc8a0ca2c979c37'), 'number': 1001, 'last_name': 'Smith', 'first_name': 'John', 'salary': 62000, 'department': 'sales', 'hire_date': datetime.datetime(2016, 1, 2, 0, 0)}\n",
      "{'_id': ObjectId('5f2266176dc8a0ca2c979c38'), 'number': 1002, 'last_name': 'Anderson', 'first_name': 'Jane', 'salary': 57500, 'department': 'marketing', 'hire_date': datetime.datetime(2013, 11, 9, 0, 0)}\n",
      "{'_id': ObjectId('5f2266176dc8a0ca2c979c39'), 'number': 1003, 'last_name': 'Everest', 'first_name': 'Brad', 'salary': 71000, 'department': 'sales', 'hire_date': datetime.datetime(2017, 2, 3, 0, 0)}\n",
      "{'_id': ObjectId('5f2266176dc8a0ca2c979c3a'), 'number': 1004, 'last_name': 'Horvath', 'first_name': 'Jack', 'salary': 42000, 'department': 'marketing', 'hire_date': datetime.datetime(2017, 6, 1, 0, 0)}\n"
     ]
    }
   ],
   "source": [
    "for employee in emp.find():\n",
    "    print(employee)"
   ]
  },
  {
   "cell_type": "code",
   "execution_count": 75,
   "metadata": {},
   "outputs": [
    {
     "name": "stdout",
     "output_type": "stream",
     "text": [
      "{'number': 1001, 'last_name': 'Smith', 'first_name': 'John', 'salary': 62000, 'department': 'sales', 'hire_date': datetime.datetime(2016, 1, 2, 0, 0)}\n",
      "{'number': 1002, 'last_name': 'Anderson', 'first_name': 'Jane', 'salary': 57500, 'department': 'marketing', 'hire_date': datetime.datetime(2013, 11, 9, 0, 0)}\n"
     ]
    }
   ],
   "source": [
    "# first_name like %a%\n",
    "filter = { \"first_name\":{\"$regex\":\"a\"}}\n",
    "filter = { \"first_name\":{\"$regex\":\"^J\"}}\n",
    "filter = { \"last_name\":{\"$regex\":\"h$\"}}\n",
    "\n",
    "from datetime import datetime\n",
    "from_dt = datetime.strptime(\"2016-01-02\", \"%Y-%m-%d\")\n",
    "to_dt = datetime.strptime(\"2017-05-30\", \"%Y-%m-%d\") \n",
    "filter = { \n",
    "    \"hire_date\":{\"$gte\":from_dt},\n",
    "    \"hire_date\":{\"$lte\":to_dt}\n",
    "}\n",
    "filter = { \n",
    "    \"hire_date\":{\"$gte\":from_dt,\"$lte\":to_dt}\n",
    "}\n",
    "\n",
    "filter = {\n",
    "    \"number\":{\"$in\":[1001,1002]}\n",
    "}\n",
    "\n",
    "for employee in emp.find(filter,{\"_id\":0}):\n",
    "    print(employee)"
   ]
  },
  {
   "cell_type": "code",
   "execution_count": 84,
   "metadata": {},
   "outputs": [
    {
     "data": {
      "text/plain": [
       "<pymongo.results.UpdateResult at 0x197b845c7c8>"
      ]
     },
     "execution_count": 84,
     "metadata": {},
     "output_type": "execute_result"
    }
   ],
   "source": [
    "# update_one(), update_many()\n",
    "emp.update_one({\"number\":1001},{\"$set\":{\"department\":\"marketing\"}})\n",
    "# number = 1001, salary 62000 -> 63000\n",
    "emp.update_one({\"number\":1001},{\"$inc\":{\"salary\":1000}})"
   ]
  },
  {
   "cell_type": "code",
   "execution_count": 86,
   "metadata": {},
   "outputs": [
    {
     "data": {
      "text/plain": [
       "<pymongo.results.UpdateResult at 0x197b848d508>"
      ]
     },
     "execution_count": 86,
     "metadata": {},
     "output_type": "execute_result"
    }
   ],
   "source": [
    "emp.update_many({}, {\"$set\":{\"status\":\"A\"}})"
   ]
  },
  {
   "cell_type": "code",
   "execution_count": 85,
   "metadata": {},
   "outputs": [
    {
     "name": "stdout",
     "output_type": "stream",
     "text": [
      "{'number': 1001, 'last_name': 'Smith', 'first_name': 'John', 'salary': 65000, 'department': 'marketing', 'hire_date': datetime.datetime(2016, 1, 2, 0, 0)}\n",
      "{'number': 1002, 'last_name': 'Anderson', 'first_name': 'Jane', 'salary': 57500, 'department': 'marketing', 'hire_date': datetime.datetime(2013, 11, 9, 0, 0)}\n",
      "{'number': 1003, 'last_name': 'Everest', 'first_name': 'Brad', 'salary': 71000, 'department': 'sales', 'hire_date': datetime.datetime(2017, 2, 3, 0, 0)}\n",
      "{'number': 1004, 'last_name': 'Horvath', 'first_name': 'Jack', 'salary': 42000, 'department': 'marketing', 'hire_date': datetime.datetime(2017, 6, 1, 0, 0)}\n"
     ]
    }
   ],
   "source": [
    "for employee in emp.find({},{\"_id\":0}):\n",
    "    print(employee)"
   ]
  },
  {
   "cell_type": "code",
   "execution_count": 89,
   "metadata": {},
   "outputs": [
    {
     "data": {
      "text/plain": [
       "<pymongo.results.UpdateResult at 0x197b848d6c8>"
      ]
     },
     "execution_count": 89,
     "metadata": {},
     "output_type": "execute_result"
    }
   ],
   "source": [
    "# update_many()\n",
    "# number in [ 1003, 1004] status = \"B\" 로 update\n",
    "emp.update_many({\"number\":{\"$in\":[1003, 1004]}}, {\"$set\":{\"status\":\"B\"}})"
   ]
  },
  {
   "cell_type": "code",
   "execution_count": 90,
   "metadata": {},
   "outputs": [
    {
     "data": {
      "text/plain": [
       "<pymongo.results.DeleteResult at 0x197b849af48>"
      ]
     },
     "execution_count": 90,
     "metadata": {},
     "output_type": "execute_result"
    }
   ],
   "source": [
    "# delete_many()\n",
    "# status = \"B\" employee delete\n",
    "emp.delete_many({\"status\":\"B\"})"
   ]
  }
 ],
 "metadata": {
  "kernelspec": {
   "display_name": "Python 3",
   "language": "python",
   "name": "python3"
  },
  "language_info": {
   "codemirror_mode": {
    "name": "ipython",
    "version": 3
   },
   "file_extension": ".py",
   "mimetype": "text/x-python",
   "name": "python",
   "nbconvert_exporter": "python",
   "pygments_lexer": "ipython3",
   "version": "3.7.0"
  }
 },
 "nbformat": 4,
 "nbformat_minor": 2
}
