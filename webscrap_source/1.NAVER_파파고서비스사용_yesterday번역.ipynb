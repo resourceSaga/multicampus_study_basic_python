{
 "cells": [
  {
   "cell_type": "markdown",
   "metadata": {},
   "source": [
    "## data/yesterday.txt 번역\n",
    "1. yesterday.txt 파일 읽기\n",
    "2. requests로 http 통신\n",
    "3. 번역된 결과를 파일로 쓰기"
   ]
  },
  {
   "cell_type": "code",
   "execution_count": 23,
   "metadata": {},
   "outputs": [
    {
     "name": "stdout",
     "output_type": "stream",
     "text": [
      "어제 나의 모든 고민들은 너무나 멀리 떨어져 있는 것 같았다.\n",
      "이제 그들은 여기 머물기 위해 온 것처럼 보인다.\n",
      "오, 나는 어제를 다시 그리게 돼.\n",
      "갑자기 나는 예전과 같은 사람이 아니다.\n",
      "내 위에 그림자가 드리워져 있다.\n",
      "아, 어제 갑자기 왔구나.\n",
      "왜 그녀가 가야만 했는지 모르겠다, 그녀는 말하지 않을 것이다.\n",
      "내가 말을 잘못해서 어제가 그립다.\n",
      "어제는 사랑이 정말 쉬운 게임이었다.\n",
      "이제 나는 숨을 곳이 필요해.\n",
      "오, 나는 어제를 다시 그리게 돼.\n",
      "왜 그녀가 가야만 했는지 모르겠다, 그녀는 말하지 않을 것이다.\n",
      "내가 말을 잘못해서 어제가 그립다.\n",
      "어제는 사랑이 정말 쉬운 게임이었다.\n",
      "이제 나는 숨을 곳이 필요해.\n",
      "오, 나는 어제를 다시 그리게 돼.\n",
      "mm mm mm mm mm mm mm mm\n"
     ]
    }
   ],
   "source": [
    "from requests import Request, Session\n",
    "\n",
    "# 파일 읽기\n",
    "def get_txt_list():\n",
    "    \n",
    "    result_list = []\n",
    "    with open('data/yesterday.txt','r',encoding='utf8') as file:\n",
    "        contents = file.read()\n",
    "        result_list = contents.split('\\n')\n",
    "        \n",
    "    return result_list\n",
    "\n",
    "# yesterday.txt 쓰기\n",
    "def save_to_file(data_list):\n",
    "    with open('data/yesterday_trans.txt','a',encoding='utf8') as file:\n",
    "        file.writelines(data_list)\n",
    "\n",
    "# requests http 통신\n",
    "def main():\n",
    "    session = Session()\n",
    "    trans_list = []\n",
    "    client_id = \"wouiRi1bKybfylCsKzcS\"\n",
    "    client_secret = \"K7SO33ICGw\"\n",
    "    url = \"https://openapi.naver.com/v1/papago/n2mt\"\n",
    "    \n",
    "    req_headers = {\n",
    "        'X-Naver-Client-Id' : client_id,\n",
    "        'X-Naver-Client-Secret' : client_secret\n",
    "    }\n",
    "    \n",
    "    lyric_list = get_txt_list()\n",
    "        \n",
    "    #list comprehension\n",
    "    lyric_list = [lyric for lyric in lyric_list if len(lyric) != 0]\n",
    "#     print(lyric_list, len(lyric_list))\n",
    "    \n",
    "    for en_text in lyric_list:\n",
    "        params = {\n",
    "            'source' : 'en',\n",
    "            'target' : 'ko',\n",
    "            'text' : en_text    \n",
    "        }\n",
    "        \n",
    "#         print(en_text)\n",
    "        req = Request('POST', url, data=params, headers=req_headers)\n",
    "        prepared = req.prepare()\n",
    "        res = session.send(prepared)\n",
    "#         print(res.status_code)\n",
    "        \n",
    "        try:\n",
    "            ko_text = res.json()['message']['result']['translatedText']\n",
    "        except Exception as err:\n",
    "            print(err)\n",
    "        else:\n",
    "            print(ko_text)\n",
    "        \n",
    "        trans_list.append(en_text+ ' \\n')\n",
    "        trans_list.append(ko_text+ ' \\n')\n",
    "    \n",
    "    save_to_file(trans_list)\n",
    "    \n",
    "\n",
    "main()"
   ]
  },
  {
   "cell_type": "code",
   "execution_count": null,
   "metadata": {},
   "outputs": [],
   "source": []
  }
 ],
 "metadata": {
  "kernelspec": {
   "display_name": "Python 3",
   "language": "python",
   "name": "python3"
  },
  "language_info": {
   "codemirror_mode": {
    "name": "ipython",
    "version": 3
   },
   "file_extension": ".py",
   "mimetype": "text/x-python",
   "name": "python",
   "nbconvert_exporter": "python",
   "pygments_lexer": "ipython3",
   "version": "3.7.0"
  }
 },
 "nbformat": 4,
 "nbformat_minor": 2
}
