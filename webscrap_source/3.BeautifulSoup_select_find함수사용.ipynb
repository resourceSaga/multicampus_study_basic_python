{
 "cells": [
  {
   "cell_type": "code",
   "execution_count": 1,
   "metadata": {},
   "outputs": [],
   "source": [
    "book_html='''\n",
    "<ul id=\"bible\">\n",
    "    <li id=\"ge\" class=\"first\">\n",
    "        <ul>\n",
    "            <li>aa</li>\n",
    "            <li>bb</li>\n",
    "        </ul>\n",
    "    </li>\n",
    "<li id=\"ex\" class=\"first\">나의첫사회생활</li>\n",
    "<li id=\"le\" class=\"second\">Still Me</li>\n",
    "<li id=\"nu\" class=\"second\">화염과 분노 : 도널드 트럼프의 백악관 뒷이야기</li>\n",
    "<li id=\"de\">매일 좋을 수만은 없는 여행을 한다</li>\n",
    "</ul>\n",
    "'''\n",
    "from bs4 import BeautifulSoup\n",
    "\n",
    "soup = BeautifulSoup(book_html, 'html.parser')\n",
    "# for li_tag in soup.select('ul li'):\n",
    "#     print(li_tag)"
   ]
  },
  {
   "cell_type": "code",
   "execution_count": 18,
   "metadata": {},
   "outputs": [
    {
     "data": {
      "text/plain": [
       "str"
      ]
     },
     "execution_count": 18,
     "metadata": {},
     "output_type": "execute_result"
    }
   ],
   "source": [
    "# select, select_one\n",
    "# print(type(soup.select('#ge')), soup.select('#ge'))\n",
    "\n",
    "# print(type(soup.select_one('#ge')), soup.select_one('#ge'))\n",
    "\n",
    "type(soup.select('#ge')[0].text.strip())\n",
    "type(soup.select_one('#ge').text.strip())"
   ]
  },
  {
   "cell_type": "code",
   "execution_count": 23,
   "metadata": {},
   "outputs": [
    {
     "name": "stdout",
     "output_type": "stream",
     "text": [
      "[<li class=\"second\" id=\"le\">Still Me</li>, <li class=\"second\" id=\"nu\">화염과 분노 : 도널드 트럼프의 백악관 뒷이야기</li>]\n",
      "#########\n",
      "[<li class=\"second\" id=\"le\">Still Me</li>]\n"
     ]
    }
   ],
   "source": [
    "# class name second\n",
    "print(soup.select('.second'))\n",
    "print('#########')\n",
    "print(soup.select('.second'))"
   ]
  },
  {
   "cell_type": "code",
   "execution_count": 30,
   "metadata": {},
   "outputs": [
    {
     "name": "stdout",
     "output_type": "stream",
     "text": [
      "<class 'bs4.element.ResultSet'>\n",
      "<class 'bs4.element.ResultSet'>\n"
     ]
    },
    {
     "data": {
      "text/plain": [
       "[<li class=\"first\" id=\"ge\">\n",
       " <ul>\n",
       " <li>aa</li>\n",
       " <li>bb</li>\n",
       " </ul>\n",
       " </li>,\n",
       " <li>aa</li>,\n",
       " <li>bb</li>,\n",
       " <li class=\"first\" id=\"ex\">나의첫사회생활</li>,\n",
       " <li class=\"second\" id=\"le\">Still Me</li>,\n",
       " <li class=\"second\" id=\"nu\">화염과 분노 : 도널드 트럼프의 백악관 뒷이야기</li>,\n",
       " <li id=\"de\">매일 좋을 수만은 없는 여행을 한다</li>]"
      ]
     },
     "execution_count": 30,
     "metadata": {},
     "output_type": "execute_result"
    }
   ],
   "source": [
    "# find() find_all()\n",
    "# find() == select_one(), find_all() == select()\n",
    "print(type(soup.find_all('li')))\n",
    "\n"
   ]
  },
  {
   "cell_type": "code",
   "execution_count": 33,
   "metadata": {},
   "outputs": [
    {
     "data": {
      "text/plain": [
       "<li class=\"second\" id=\"le\">Still Me</li>"
      ]
     },
     "execution_count": 33,
     "metadata": {},
     "output_type": "execute_result"
    }
   ],
   "source": [
    "# li.second\n",
    "soup.find_all('li',attrs={'class':'second'})\n",
    "soup.find('li',attrs={'class':'second'})"
   ]
  },
  {
   "cell_type": "code",
   "execution_count": 45,
   "metadata": {},
   "outputs": [
    {
     "name": "stdout",
     "output_type": "stream",
     "text": [
      "Still Me\n"
     ]
    }
   ],
   "source": [
    "# css 선택자를 입력 받아서 결과를 반환하는 lambda 함수 정의\n",
    "sel = lambda ex:print(soup.select_one(ex).string)\n",
    "sel('ul li#le')"
   ]
  },
  {
   "cell_type": "code",
   "execution_count": 58,
   "metadata": {},
   "outputs": [],
   "source": [
    "html=\"\"\"\n",
    "\n",
    "<html>\n",
    "<body>\n",
    "<div id=\"main-goods\" role=\"page\">\n",
    "<h1>과일과 채소</h1>\n",
    "<ul id=\"fr-list\">\n",
    "<li class=\"red green\" data-lo=\"ko\">사과</li>\n",
    "<li class=\"purple\" data-lo=\"us\">포도</li>\n",
    "<li class=\"yellow\" data-lo=\"us\">레몬</li>\n",
    "<li class=\"yellow\" data-lo=\"ko\">오렌지</li>\n",
    "</ul>\n",
    "<ul id=\"ve-list\">\n",
    "<li class=\"white green\" data-lo=\"ko\">무</li>\n",
    "<li class=\"red green\" data-lo=\"us\">파프리카</li>\n",
    "<li class=\"black\" data-lo=\"ko\">가지</li>\n",
    "<li class=\"black\" data-lo=\"us\">아보카도</li>\n",
    "<li class=\"white\" data-lo=\"cn\">연근</li>\n",
    "</ul>\n",
    "</div>\n",
    "<body>\n",
    "</html>\n",
    "\"\"\""
   ]
  },
  {
   "cell_type": "code",
   "execution_count": 104,
   "metadata": {},
   "outputs": [
    {
     "name": "stdout",
     "output_type": "stream",
     "text": [
      "<li class=\"purple\" data-lo=\"us\">포도</li>\n",
      "<li class=\"yellow\" data-lo=\"us\">레몬</li>\n",
      "<li class=\"red green\" data-lo=\"us\">파프리카</li>\n",
      "<li class=\"black\" data-lo=\"us\">아보카도</li>\n"
     ]
    }
   ],
   "source": [
    "from bs4 import BeautifulSoup\n",
    "\n",
    "soup2 = BeautifulSoup(html, 'html.parser')\n",
    "\n",
    "# 채소 이름\n",
    "'''\n",
    "for ve in soup2.select('#ve-list'):\n",
    "    print(ve.text.strip())\n",
    "'''\n",
    "# 과일 이름\n",
    "'''\n",
    "for fr in soup2.select('#fr-list'):\n",
    "    print(fr.text.strip())\n",
    "'''\n",
    "# 채소 중에서 국산 채소만 ko\n",
    "'''\n",
    "for lo_ko in soup2.select(\"#ve-list > li[data-lo='ko']\"):\n",
    "    print(lo_ko)\n",
    "'''\n",
    "# 과일 중에서 미국 과일만 us\n",
    "'''\n",
    "for lo_us in soup2.select(\"#fr-list > li[data-lo='us']\"):\n",
    "    print(lo_us)\n",
    "'''    \n",
    "# 과일 중에서 노랑 yellow\n",
    "'''\n",
    "for fr_y in soup2.select(\"#fr-list > li[class='yellow']\"):\n",
    "    print(fr_y)\n",
    "'''\n",
    "# 채소 중에서 black\n",
    "'''\n",
    "for ve_b in soup2.select(\"#ve-list > li[class='black']\"):\n",
    "    print(ve_b)\n",
    "'''\n",
    "# 전체에서 red green\n",
    "'''\n",
    "for all_rg in soup2.select(\"#main-goods li[class='red green']\"):\n",
    "    print(all_rg)\n",
    "'''\n",
    "# 8번째 li\n",
    "'''\n",
    "li_list = []\n",
    "for li_tag in soup2.select(\"#main-goods li\"):\n",
    "    li_list.append(li_tag)\n",
    "print(li_list[7])\n",
    "'''                                \n",
    "# 전체에서 us\n",
    "for all_us in soup2.select(\"#main-goods li[data-lo='us']\"):\n",
    "    print(all_us)\n"
   ]
  },
  {
   "cell_type": "code",
   "execution_count": null,
   "metadata": {},
   "outputs": [],
   "source": []
  }
 ],
 "metadata": {
  "kernelspec": {
   "display_name": "Python 3",
   "language": "python",
   "name": "python3"
  },
  "language_info": {
   "codemirror_mode": {
    "name": "ipython",
    "version": 3
   },
   "file_extension": ".py",
   "mimetype": "text/x-python",
   "name": "python",
   "nbconvert_exporter": "python",
   "pygments_lexer": "ipython3",
   "version": "3.7.0"
  }
 },
 "nbformat": 4,
 "nbformat_minor": 2
}
