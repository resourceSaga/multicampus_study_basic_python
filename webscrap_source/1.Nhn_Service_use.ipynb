{
 "cells": [
  {
   "cell_type": "markdown",
   "metadata": {},
   "source": [
    "## 1. Nhn 뉴스 제목 검색\n",
    "- request, beautifulsoup 사용\n",
    "- css, selector - 속성 선택자 사용"
   ]
  },
  {
   "cell_type": "code",
   "execution_count": null,
   "metadata": {},
   "outputs": [],
   "source": [
    "import requests\n",
    "from bs4 import BeautifulSoup\n",
    "from urllib.parse import urljoin"
   ]
  },
  {
   "cell_type": "code",
   "execution_count": null,
   "metadata": {},
   "outputs": [],
   "source": [
    "url = 'https://news.naver.com/'\n",
    "response = requests.get(url)\n",
    "print(response.status_code)\n",
    "# print(response.headers)\n",
    "print(response.headers['content-type'])"
   ]
  },
  {
   "cell_type": "code",
   "execution_count": null,
   "metadata": {},
   "outputs": [],
   "source": [
    "# 응답 데이터 텍스트\n",
    "html = response.text"
   ]
  },
  {
   "cell_type": "code",
   "execution_count": null,
   "metadata": {},
   "outputs": [],
   "source": [
    "# BeautifulSoup 객체 생성\n",
    "soup = BeautifulSoup(html, 'html.parser')\n",
    "tag_list = soup.select(\"a[href*=read.nhn]\")\n",
    "print(type(tag_list), len(tag_list))\n",
    "for idx, a_tag in enumerate(tag_list):\n",
    "    \n",
    "    # 공백제거\n",
    "    title = a_tag.text.strip()\n",
    "    \n",
    "    # 도메인 추가\n",
    "    link = urljoin(url, a_tag['href'])\n",
    "    \n",
    "    print(idx, title, link)    \n",
    "    print(' ---------- ')"
   ]
  },
  {
   "cell_type": "markdown",
   "metadata": {},
   "source": [
    "## 2. Nhn 번역 서비스 Papago 사용하기\n",
    "- urllib 사용하기\n",
    "- request 사용하기"
   ]
  },
  {
   "cell_type": "code",
   "execution_count": null,
   "metadata": {},
   "outputs": [],
   "source": [
    "# 네이버 Papago NMT API 예제\n",
    "import os\n",
    "import sys\n",
    "import urllib.request\n",
    "client_id = \"InUYaU61Z2vLSECpvSt7\"\n",
    "client_secret = \"8MqtFRHhyy\"\n",
    "encText = urllib.parse.quote(\"Yesterday all my troubles seemed so far away.\")\n",
    "data = \"source=en&target=ko&text=\" + encText\n",
    "url = \"https://openapi.naver.com/v1/papago/n2mt\"\n",
    "request = urllib.request.Request(url)\n",
    "request.add_header(\"X-Naver-Client-Id\",client_id)\n",
    "request.add_header(\"X-Naver-Client-Secret\",client_secret)\n",
    "response = urllib.request.urlopen(request, data=data.encode(\"utf-8\"))\n",
    "rescode = response.getcode()\n",
    "if(rescode==200):\n",
    "    response_body = response.read()\n",
    "    print(response_body.decode('utf-8'))\n",
    "else:\n",
    "    print(\"Error Code:\" + rescode)"
   ]
  },
  {
   "cell_type": "markdown",
   "metadata": {},
   "source": [
    "## request 사용"
   ]
  },
  {
   "cell_type": "code",
   "execution_count": null,
   "metadata": {},
   "outputs": [],
   "source": [
    "import requests"
   ]
  },
  {
   "cell_type": "code",
   "execution_count": null,
   "metadata": {},
   "outputs": [],
   "source": [
    "client_id = \"InUYaU61Z2vLSECpvSt7\"\n",
    "client_secret = \"8MqtFRHhyy\"\n",
    "url = \"https://openapi.naver.com/v1/papago/n2mt\"\n",
    "encText = \"Yesterday all my troubles seemed so far away.\"\n",
    "\n",
    "req_headers = {\n",
    "    'X-Naver-Client-Id' : client_id,\n",
    "    'X-Naver-Client-Secret' : client_secret\n",
    "}\n",
    "params = {\n",
    "    'source' : 'en',\n",
    "    'target' : 'ko',\n",
    "    'text' : encText    \n",
    "}\n",
    "response = requests.post(url, headers=req_headers, data=params)\n",
    "print('응답 헤더값들: ', response.headers)\n",
    "print('요청 헤더값들: ', response.request.headers)\n",
    "print('status code', response.status_code)\n",
    "\n",
    "if response.status_code == 200:\n",
    "    print(response.text)\n",
    "else:\n",
    "    print(response.status_code)"
   ]
  },
  {
   "cell_type": "code",
   "execution_count": null,
   "metadata": {},
   "outputs": [],
   "source": [
    "myjson = response.json()\n",
    "print(type(myjson), myjson)"
   ]
  },
  {
   "cell_type": "code",
   "execution_count": null,
   "metadata": {},
   "outputs": [],
   "source": [
    "myjson['message']['result']['translatedText']"
   ]
  },
  {
   "cell_type": "markdown",
   "metadata": {},
   "source": [
    "## requests의 Request, Session 객체를 사용"
   ]
  },
  {
   "cell_type": "code",
   "execution_count": null,
   "metadata": {},
   "outputs": [],
   "source": [
    "import requests\n",
    "# Request와 Session을 사용\n",
    "from requests import Request, Session\n",
    "\n",
    "client_id = \"wouiRi1bKybfylCsKzcS\"\n",
    "client_secret = \"K7SO33ICGw\"\n",
    "url = \"https://openapi.naver.com/v1/papago/n2mt\"\n",
    "encText = \"Yesterday all my troubles seemed so far away.\"\n",
    "\n",
    "req_headers = {\n",
    "    'X-Naver-Client-Id' : client_id,\n",
    "    'X-Naver-Client-Secret' : client_secret\n",
    "}\n",
    "params = {\n",
    "    'source' : 'en',\n",
    "    'target' : 'ko',\n",
    "    'text' : encText    \n",
    "}\n",
    "\n",
    "# Session 객체 생성\n",
    "session = Session()\n",
    "\n",
    "# Request 객체 생성\n",
    "request = Request('POST', url, headers=req_headers, data=params)\n",
    "\n",
    "# request의 prepared() 함수 호출\n",
    "prepared = request.prepare()\n",
    "\n",
    "#session의 send() 함수를 호출해서 서버에 요청 전달\n",
    "response = session.send(prepared)\n",
    "\n",
    "print('응답 헤더값들: ', response.headers)\n",
    "print('요청 헤더값들: ', response.request.headers)\n",
    "print('status code', response.status_code)\n",
    "\n",
    "if response.status_code == 200:\n",
    "    print(response.text)\n",
    "    \n",
    "else:\n",
    "    print(response.status_code)"
   ]
  }
 ],
 "metadata": {
  "kernelspec": {
   "display_name": "Python 3",
   "language": "python",
   "name": "python3"
  },
  "language_info": {
   "codemirror_mode": {
    "name": "ipython",
    "version": 3
   },
   "file_extension": ".py",
   "mimetype": "text/x-python",
   "name": "python",
   "nbconvert_exporter": "python",
   "pygments_lexer": "ipython3",
   "version": "3.7.0"
  }
 },
 "nbformat": 4,
 "nbformat_minor": 2
}
