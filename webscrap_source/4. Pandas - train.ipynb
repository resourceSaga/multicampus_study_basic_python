{
 "cells": [
  {
   "cell_type": "code",
   "execution_count": 3,
   "metadata": {},
   "outputs": [],
   "source": [
    "import pandas as pd"
   ]
  },
  {
   "cell_type": "code",
   "execution_count": 4,
   "metadata": {},
   "outputs": [
    {
     "data": {
      "text/plain": [
       "Int64Index([  1,   2,   3,   4,   5,   6,   7,   8,   9,  10,\n",
       "            ...\n",
       "            882, 883, 884, 885, 886, 887, 888, 889, 890, 891],\n",
       "           dtype='int64', name='PassengerId', length=891)"
      ]
     },
     "execution_count": 4,
     "metadata": {},
     "output_type": "execute_result"
    }
   ],
   "source": [
    "train = pd.read_csv('data/train.csv', index_col=\"PassengerId\")\n",
    "\n",
    "# train 변수에 할당된 데이터의 행렬 사이즈 출력\n",
    "train.shape\n",
    "\n",
    "# index\n",
    "train.index\n",
    "\n",
    "# columns\n",
    "train.columns\n",
    "\n",
    "# column 가져오기\n",
    "train[\"Survived\"].head()\n",
    "train[[\"Sex\", \"Pclass\", \"Survived\"]].head()\n",
    "columns = [\"Sex\", \"Pclass\", \"Survived\"]\n",
    "train[columns].head()\n",
    "\n",
    "# row 가져오기\n",
    "train.loc[1]\n",
    "train.loc[1:7]\n",
    "train.loc[[1, 3, 7, 13]]\n",
    "\n",
    "passenger_ids = [1, 3, 7, 13]\n",
    "train.loc[passenger_ids]\n",
    "\n",
    "# 행렬 동시에 가져오기\n",
    "train.loc[1, \"Sex\"]\n",
    "train.loc[1, [\"Pclass\", \"Sex\", \"Survived\"]]\n",
    "train.loc[[1, 3, 7, 13], \"Sex\"]\n",
    "train.loc[1:7, \"Sex\"]\n",
    "train.loc[[1, 3, 7, 13], [\"Sex\", \"Pclass\", \"Survived\"]]\n",
    "\n",
    "# Boolean Mask\n",
    "train[train[\"Sex\"] == \"male\"].head()\n",
    "train[train[\"Fare\"] > 20].head()\n",
    "train[train[\"Embarked\"].isin([\"Q\", \"S\"])].head()\n",
    "train[train[\"Age\"].isnull()].head()\n",
    "train[train[\"Age\"].notnull()].head()\n",
    "train[~train[\"Age\"].isnull()].head()\n",
    "train[(train[\"Age\"].isnull()) | (train[\"Fare\"].isnull())].head()\n",
    "train[(train[\"Age\"].isnull()) & (train[\"Fare\"].isnull())]\n",
    "\n",
    "# 평균\n",
    "train[\"Fare\"].mean()\n",
    "# 최댓값\n",
    "train[\"Age\"].max()\n",
    "# 최솟값\n",
    "train[\"Age\"].min()\n",
    "\n",
    "# 컬럼 추가 & 수정\n",
    "train[\"DataCategory\"] = \"Titanic\"\n",
    "train[\"Id\"] = range(0, 891)\n",
    "train[\"FamilySize\"] = train[\"SibSp\"] + train[\"Parch\"] + 1\n",
    "train[[\"SibSp\", \"Parch\", \"FamilySize\"]].head()\n",
    "train[\"Nationality_FR\"] = train[\"Embarked\"] == \"C\"\n",
    "train[\"Nationality_UK\"] = train[\"Embarked\"].isin([\"S\", \"Q\"])\n",
    "train.loc[train[\"Embarked\"] == \"C\", \"Nationality\"] = \"France\"\n",
    "train.loc[train[\"Embarked\"].isin([\"S\", \"Q\"]), \"Nationality\"] = \"England\"\n",
    "train[\"Fare_Cheap\"] = train[\"Fare\"] < 30\n",
    "train[\"Fare_Medium\"] = (train[\"Fare\"] >= 30) & (train[\"Fare\"] < 100)\n",
    "train[\"Fare_Expensive\"] = train[\"Fare\"] >= 100\n",
    "train.loc[train[\"Fare\"] < 30, \"FareType\"] = \"Cheap\"\n",
    "train.loc[(train[\"Fare\"] >= 30) & (train[\"Fare\"] < 100), \"FareType\"] = \"Med\"\n",
    "train.loc[train[\"Fare\"] >= 100, \"FareType\"] = \"Expensive\"\n",
    "mean_age = train[\"Age\"].mean()\n",
    "train.loc[train[\"Age\"].isnull(), \"Age\"] = mean_age\n"
   ]
  },
  {
   "cell_type": "code",
   "execution_count": null,
   "metadata": {},
   "outputs": [],
   "source": []
  }
 ],
 "metadata": {
  "kernelspec": {
   "display_name": "Python 3",
   "language": "python",
   "name": "python3"
  },
  "language_info": {
   "codemirror_mode": {
    "name": "ipython",
    "version": 3
   },
   "file_extension": ".py",
   "mimetype": "text/x-python",
   "name": "python",
   "nbconvert_exporter": "python",
   "pygments_lexer": "ipython3",
   "version": "3.7.0"
  }
 },
 "nbformat": 4,
 "nbformat_minor": 2
}
